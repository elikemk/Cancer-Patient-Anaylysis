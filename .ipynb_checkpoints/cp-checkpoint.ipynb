{
 "cells": [
  {
   "cell_type": "code",
   "execution_count": 1,
   "id": "7e95c0f9-706c-44d5-a586-26eb01f8ef73",
   "metadata": {
    "tags": []
   },
   "outputs": [],
   "source": [
    "import tarfile\n",
    "from six.moves import urllib\n"
   ]
  },
  {
   "cell_type": "code",
   "execution_count": 4,
   "id": "d6bc233e-d0ea-4547-b39b-b64a1b8933d6",
   "metadata": {
    "tags": []
   },
   "outputs": [],
   "source": [
    "DOCUMENT_PATH = \"/Users/ekalitsi/Cancer-Patient-Anaylysis\""
   ]
  },
  {
   "cell_type": "code",
   "execution_count": 6,
   "id": "4169bc18-d6ba-49a3-a96f-69cf95aad814",
   "metadata": {
    "tags": []
   },
   "outputs": [
    {
     "data": {
      "text/html": [
       "<div>\n",
       "<style scoped>\n",
       "    .dataframe tbody tr th:only-of-type {\n",
       "        vertical-align: middle;\n",
       "    }\n",
       "\n",
       "    .dataframe tbody tr th {\n",
       "        vertical-align: top;\n",
       "    }\n",
       "\n",
       "    .dataframe thead th {\n",
       "        text-align: right;\n",
       "    }\n",
       "</style>\n",
       "<table border=\"1\" class=\"dataframe\">\n",
       "  <thead>\n",
       "    <tr style=\"text-align: right;\">\n",
       "      <th></th>\n",
       "      <th>Case_number</th>\n",
       "      <th>Gender</th>\n",
       "      <th>Age</th>\n",
       "      <th>Year Diagnosed</th>\n",
       "      <th>Tumor Size</th>\n",
       "      <th>Stage</th>\n",
       "      <th>Survival Time</th>\n",
       "    </tr>\n",
       "  </thead>\n",
       "  <tbody>\n",
       "    <tr>\n",
       "      <th>0</th>\n",
       "      <td>10771962</td>\n",
       "      <td>1</td>\n",
       "      <td>55</td>\n",
       "      <td>2004</td>\n",
       "      <td>0.12</td>\n",
       "      <td>1</td>\n",
       "      <td>83</td>\n",
       "    </tr>\n",
       "    <tr>\n",
       "      <th>1</th>\n",
       "      <td>12288403</td>\n",
       "      <td>1</td>\n",
       "      <td>57</td>\n",
       "      <td>2004</td>\n",
       "      <td>0.09</td>\n",
       "      <td>1</td>\n",
       "      <td>77</td>\n",
       "    </tr>\n",
       "    <tr>\n",
       "      <th>2</th>\n",
       "      <td>12294231</td>\n",
       "      <td>1</td>\n",
       "      <td>88</td>\n",
       "      <td>2004</td>\n",
       "      <td>0.25</td>\n",
       "      <td>2</td>\n",
       "      <td>29</td>\n",
       "    </tr>\n",
       "    <tr>\n",
       "      <th>3</th>\n",
       "      <td>12295398</td>\n",
       "      <td>2</td>\n",
       "      <td>70</td>\n",
       "      <td>2004</td>\n",
       "      <td>0.05</td>\n",
       "      <td>1</td>\n",
       "      <td>82</td>\n",
       "    </tr>\n",
       "    <tr>\n",
       "      <th>4</th>\n",
       "      <td>12295909</td>\n",
       "      <td>2</td>\n",
       "      <td>54</td>\n",
       "      <td>2004</td>\n",
       "      <td>0.05</td>\n",
       "      <td>1</td>\n",
       "      <td>81</td>\n",
       "    </tr>\n",
       "  </tbody>\n",
       "</table>\n",
       "</div>"
      ],
      "text/plain": [
       "   Case_number  Gender  Age  Year Diagnosed  Tumor Size  Stage  Survival Time\n",
       "0     10771962       1   55            2004        0.12      1             83\n",
       "1     12288403       1   57            2004        0.09      1             77\n",
       "2     12294231       1   88            2004        0.25      2             29\n",
       "3     12295398       2   70            2004        0.05      1             82\n",
       "4     12295909       2   54            2004        0.05      1             81"
      ]
     },
     "execution_count": 6,
     "metadata": {},
     "output_type": "execute_result"
    }
   ],
   "source": [
    "import os\n",
    "import pandas as pd\n",
    "\n",
    "\n",
    "# calling data\n",
    "def load_cancer_patient_data(cancer_patient= DOCUMENT_PATH):\n",
    "    csv_path = os.path.join(cancer_patient,\"cancer.csv\")\n",
    "    return pd.read_csv(csv_path)\n",
    "\n",
    "cancer_scores = load_cancer_patient_data()\n",
    "cancer_scores.head()\n"
   ]
  },
  {
   "cell_type": "code",
   "execution_count": null,
   "id": "f751d690-2578-46fd-8db0-1bf117ab6532",
   "metadata": {},
   "outputs": [],
   "source": []
  },
  {
   "cell_type": "code",
   "execution_count": null,
   "id": "22ed0f77-c8d1-40a6-a783-d70b50d55b75",
   "metadata": {},
   "outputs": [],
   "source": []
  }
 ],
 "metadata": {
  "kernelspec": {
   "display_name": "Python 3 (ipykernel)",
   "language": "python",
   "name": "python3"
  },
  "language_info": {
   "codemirror_mode": {
    "name": "ipython",
    "version": 3
   },
   "file_extension": ".py",
   "mimetype": "text/x-python",
   "name": "python",
   "nbconvert_exporter": "python",
   "pygments_lexer": "ipython3",
   "version": "3.11.5"
  }
 },
 "nbformat": 4,
 "nbformat_minor": 5
}
